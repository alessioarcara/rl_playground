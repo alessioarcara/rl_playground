{
 "cells": [
  {
   "cell_type": "code",
   "execution_count": null,
   "id": "cb621277",
   "metadata": {},
   "outputs": [],
   "source": [
    "import jax\n",
    "from jax import random\n",
    "\n",
    "# random consumes the key but not modify it\n",
    "key = random.key(42)\n",
    "print(key)"
   ]
  }
 ],
 "metadata": {
  "language_info": {
   "name": "python"
  }
 },
 "nbformat": 4,
 "nbformat_minor": 5
}
