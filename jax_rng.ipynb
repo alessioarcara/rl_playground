{
 "cells": [
  {
   "cell_type": "code",
   "execution_count": null,
   "id": "0",
   "metadata": {},
   "outputs": [],
   "source": [
    "import jax\n",
    "from jax import random\n",
    "\n",
    "# random consumes the key but not modify it\n",
    "key = random.key(42)\n",
    "print(key)"
   ]
  },
  {
   "cell_type": "code",
   "execution_count": null,
   "id": "1",
   "metadata": {},
   "outputs": [],
   "source": [
    "for i in range(3):\n",
    "    key, subkey = random.split(key)\n",
    "    val = random.normal(subkey)\n",
    "    print(f\"draw {i}: {val}\")"
   ]
  },
  {
   "cell_type": "code",
   "execution_count": null,
   "id": "2",
   "metadata": {},
   "outputs": [],
   "source": [
    "# no sequential guarantee\n",
    "import numpy as np\n",
    "\n",
    "key = random.key(42)\n",
    "subkeys = random.split(key, 6)\n",
    "print(np.stack([random.normal(subkey) for subkey in subkeys]))\n",
    "print(\"vectorized:\", jax.vmap(random.normal)(subkeys))"
   ]
  }
 ],
 "metadata": {
  "kernelspec": {
   "display_name": "rl",
   "language": "python",
   "name": "python3"
  },
  "language_info": {
   "codemirror_mode": {
    "name": "ipython",
    "version": 3
   },
   "file_extension": ".py",
   "mimetype": "text/x-python",
   "name": "python",
   "nbconvert_exporter": "python",
   "pygments_lexer": "ipython3",
   "version": "3.11.8"
  }
 },
 "nbformat": 4,
 "nbformat_minor": 5
}
