{
 "cells": [
  {
   "cell_type": "code",
   "execution_count": null,
   "metadata": {},
   "outputs": [],
   "source": [
    "import gymnasium as gym\n",
    "from gym.wrappers import TimeLimit\n",
    "\n",
    "import src.gymnasium_env  # noqa: F401\n",
    "from src.config import build_cfg\n",
    "from src.gymnasium_env.wrappers import OneHotFlatPosWrapper, OneHotGridPosWrapper\n",
    "from src.train import train_dql_agent\n",
    "from src.utils import query_environment\n",
    "\n",
    "%load_ext autoreload\n",
    "%autoreload 2\n",
    "\n",
    "\n",
    "def make_wrapped_env(\n",
    "    env: gym.Env, grid_size: int, max_steps_per_episode: int, flat: bool\n",
    ") -> gym.Env:\n",
    "    env = (\n",
    "        OneHotFlatPosWrapper(env, grid_size=grid_size)\n",
    "        if flat\n",
    "        else OneHotGridPosWrapper(env, grid_size=grid_size)\n",
    "    )\n",
    "    env = TimeLimit(env, max_episode_steps=max_steps_per_episode)\n",
    "    return env"
   ]
  },
  {
   "cell_type": "code",
   "execution_count": null,
   "metadata": {},
   "outputs": [],
   "source": [
    "query_environment(\"GridWorld-v0\")"
   ]
  },
  {
   "cell_type": "code",
   "execution_count": null,
   "metadata": {},
   "outputs": [],
   "source": [
    "cfg = build_cfg(\n",
    "    \"src/configs/gridworld.yaml\",\n",
    ")\n",
    "env = gym.make(\n",
    "    \"GridWorld-v0\",\n",
    "    size=cfg.grid_size,\n",
    "    reset_success_count=500,\n",
    ")\n",
    "eval_env = gym.make(\"GridWorld-v0\", size=cfg.grid_size, render_mode=\"rgb_array\")"
   ]
  },
  {
   "cell_type": "code",
   "execution_count": null,
   "metadata": {},
   "outputs": [],
   "source": [
    "train_dql_agent(\n",
    "    config=cfg,\n",
    "    env=make_wrapped_env(env, cfg.grid_size, cfg.max_steps_per_episode, True),\n",
    "    state_dim=2 * cfg.grid_size**2,\n",
    "    eval_env=make_wrapped_env(eval_env, cfg.grid_size, cfg.max_steps_per_episode, True),\n",
    ")"
   ]
  },
  {
   "cell_type": "code",
   "execution_count": null,
   "metadata": {},
   "outputs": [],
   "source": [
    "train_dql_agent(\n",
    "    config=cfg,\n",
    "    env=make_wrapped_env(env, cfg.grid_size, cfg.max_steps_per_episode, False),\n",
    "    state_dim=(cfg.grid_size, cfg.grid_size, 2),\n",
    "    eval_env=make_wrapped_env(\n",
    "        eval_env, cfg.grid_size, cfg.max_steps_per_episode, False\n",
    "    ),\n",
    ")"
   ]
  },
  {
   "cell_type": "code",
   "execution_count": null,
   "metadata": {},
   "outputs": [],
   "source": []
  }
 ],
 "metadata": {
  "kernelspec": {
   "display_name": "rl",
   "language": "python",
   "name": "python3"
  },
  "language_info": {
   "codemirror_mode": {
    "name": "ipython",
    "version": 3
   },
   "file_extension": ".py",
   "mimetype": "text/x-python",
   "name": "python",
   "nbconvert_exporter": "python",
   "pygments_lexer": "ipython3",
   "version": "3.11.8"
  }
 },
 "nbformat": 4,
 "nbformat_minor": 4
}
