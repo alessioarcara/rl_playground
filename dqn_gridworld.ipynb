{
 "cells": [
  {
   "cell_type": "code",
   "execution_count": null,
   "metadata": {},
   "outputs": [],
   "source": [
    "import gymnasium as gym\n",
    "\n",
    "import src.gymnasium_env  # noqa: F401\n",
    "from src.config import build_cfg\n",
    "from src.gymnasium_env.wrappers import OneHotAgentGoalObsWrapper\n",
    "from src.train import train_dql_agent\n",
    "from src.utils import query_environment\n",
    "\n",
    "%load_ext autoreload\n",
    "%autoreload 2"
   ]
  },
  {
   "cell_type": "code",
   "execution_count": null,
   "metadata": {},
   "outputs": [],
   "source": [
    "query_environment(\"GridWorld-v0\")"
   ]
  },
  {
   "cell_type": "code",
   "execution_count": null,
   "metadata": {},
   "outputs": [],
   "source": [
    "cfg = build_cfg(\n",
    "    \"src/configs/gridworld.yaml\",\n",
    ")\n",
    "env = OneHotAgentGoalObsWrapper(\n",
    "    gym.make(\n",
    "        \"GridWorld-v0\",\n",
    "        size=cfg.grid_size,\n",
    "        render_mode=\"rgb_array\",\n",
    "        reset_success_count=5000,\n",
    "    ),\n",
    "    grid_size=cfg.grid_size,\n",
    ")\n",
    "train_dql_agent(cfg, env)"
   ]
  },
  {
   "cell_type": "code",
   "execution_count": null,
   "metadata": {},
   "outputs": [],
   "source": []
  }
 ],
 "metadata": {
  "kernelspec": {
   "display_name": "rl",
   "language": "python",
   "name": "python3"
  },
  "language_info": {
   "codemirror_mode": {
    "name": "ipython",
    "version": 3
   },
   "file_extension": ".py",
   "mimetype": "text/x-python",
   "name": "python",
   "nbconvert_exporter": "python",
   "pygments_lexer": "ipython3",
   "version": "3.11.8"
  }
 },
 "nbformat": 4,
 "nbformat_minor": 4
}
