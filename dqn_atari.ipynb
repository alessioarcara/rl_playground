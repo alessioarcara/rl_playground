{
 "cells": [
  {
   "cell_type": "code",
   "execution_count": null,
   "id": "0",
   "metadata": {},
   "outputs": [],
   "source": [
    "import ale_py\n",
    "import gymnasium as gym\n",
    "import numpy as np\n",
    "from gymnasium.wrappers import (\n",
    "    AtariPreprocessing,\n",
    "    FrameStackObservation,\n",
    "    TimeLimit,\n",
    "    TransformObservation,\n",
    ")\n",
    "\n",
    "from src.config import build_cfg\n",
    "from src.train import train_dql_agent\n",
    "\n",
    "%load_ext autoreload\n",
    "%autoreload 2\n",
    "\n",
    "\n",
    "cfg = build_cfg(\n",
    "    \"src/configs/atari.yaml\",\n",
    ")\n",
    "\n",
    "gym.register_envs(ale_py)\n",
    "env = gym.make(\"ALE/Breakout-v5\", frameskip=1, render_mode=\"rgb_array\")\n",
    "env = AtariPreprocessing(env)\n",
    "env = FrameStackObservation(env, stack_size=4)\n",
    "\n",
    "\n",
    "def swap_channels(obs):\n",
    "    # obs ha shape (4, 84, 84)\n",
    "    return np.transpose(obs, (1, 2, 0))  # → (84, 84, 4)\n",
    "\n",
    "\n",
    "old_space = env.observation_space\n",
    "new_space = gym.spaces.Box(\n",
    "    low=old_space.low.min(),\n",
    "    high=old_space.high.max(),\n",
    "    shape=(old_space.shape[1], old_space.shape[2], old_space.shape[0]),\n",
    "    dtype=old_space.dtype,\n",
    ")\n",
    "\n",
    "env = TransformObservation(env, swap_channels, new_space)\n",
    "env = TimeLimit(env, max_episode_steps=cfg.max_steps_per_episode)\n",
    "state_dim = env.observation_space.shape\n",
    "train_dql_agent(cfg, env, state_dim)"
   ]
  },
  {
   "cell_type": "code",
   "execution_count": null,
   "id": "1",
   "metadata": {},
   "outputs": [],
   "source": []
  }
 ],
 "metadata": {
  "kernelspec": {
   "display_name": "rl",
   "language": "python",
   "name": "python3"
  },
  "language_info": {
   "codemirror_mode": {
    "name": "ipython",
    "version": 3
   },
   "file_extension": ".py",
   "mimetype": "text/x-python",
   "name": "python",
   "nbconvert_exporter": "python",
   "pygments_lexer": "ipython3",
   "version": "3.11.8"
  }
 },
 "nbformat": 4,
 "nbformat_minor": 5
}
